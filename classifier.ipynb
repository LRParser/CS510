{
 "cells": [
  {
   "cell_type": "code",
   "execution_count": 1,
   "metadata": {},
   "outputs": [],
   "source": [
    "import pandas as pd\n",
    "import numpy as np\n",
    "from rdkit import Chem, DataStructs\n",
    "from rdkit.Chem import AllChem, rdMolDescriptors\n",
    "from sklearn.ensemble import RandomForestClassifier\n",
    "from imblearn.under_sampling import RandomUnderSampler\n",
    "from sklearn.metrics import roc_auc_score\n",
    "from sklearn.model_selection import train_test_split\n",
    "from sklearn.dummy import DummyClassifier\n",
    "from sklearn.model_selection import StratifiedKFold\n",
    "import time\n",
    "import pickle\n",
    "global_random_state = 42\n",
    "k_fold_splits = 2"
   ]
  },
  {
   "cell_type": "code",
   "execution_count": 2,
   "metadata": {
    "scrolled": true
   },
   "outputs": [
    {
     "name": "stderr",
     "output_type": "stream",
     "text": [
      "/Users/josephheenan/anaconda3/lib/python3.6/site-packages/IPython/core/interactiveshell.py:2717: DtypeWarning: Columns (0,7) have mixed types. Specify dtype option on import or set low_memory=False.\n",
      "  interactivity=interactivity, compiler=compiler, result=result)\n"
     ]
    },
    {
     "data": {
      "text/html": [
       "<div>\n",
       "<style>\n",
       "    .dataframe thead tr:only-child th {\n",
       "        text-align: right;\n",
       "    }\n",
       "\n",
       "    .dataframe thead th {\n",
       "        text-align: left;\n",
       "    }\n",
       "\n",
       "    .dataframe tbody tr th {\n",
       "        vertical-align: top;\n",
       "    }\n",
       "</style>\n",
       "<table border=\"1\" class=\"dataframe\">\n",
       "  <thead>\n",
       "    <tr style=\"text-align: right;\">\n",
       "      <th></th>\n",
       "      <th>PUBCHEM_RESULT_TAG</th>\n",
       "      <th>PUBCHEM_SID</th>\n",
       "      <th>PUBCHEM_CID</th>\n",
       "      <th>PUBCHEM_ACTIVITY_OUTCOME</th>\n",
       "      <th>PUBCHEM_ACTIVITY_SCORE</th>\n",
       "      <th>PUBCHEM_ACTIVITY_URL</th>\n",
       "      <th>PUBCHEM_ASSAYDATA_COMMENT</th>\n",
       "      <th>Activation</th>\n",
       "    </tr>\n",
       "  </thead>\n",
       "  <tbody>\n",
       "    <tr>\n",
       "      <th>0</th>\n",
       "      <td>RESULT_TYPE</td>\n",
       "      <td>NaN</td>\n",
       "      <td>NaN</td>\n",
       "      <td>NaN</td>\n",
       "      <td>NaN</td>\n",
       "      <td>NaN</td>\n",
       "      <td>NaN</td>\n",
       "      <td>FLOAT</td>\n",
       "    </tr>\n",
       "    <tr>\n",
       "      <th>1</th>\n",
       "      <td>RESULT_DESCR</td>\n",
       "      <td>NaN</td>\n",
       "      <td>NaN</td>\n",
       "      <td>NaN</td>\n",
       "      <td>NaN</td>\n",
       "      <td>NaN</td>\n",
       "      <td>NaN</td>\n",
       "      <td>Normalized percent activation of the primary s...</td>\n",
       "    </tr>\n",
       "    <tr>\n",
       "      <th>2</th>\n",
       "      <td>RESULT_UNIT</td>\n",
       "      <td>NaN</td>\n",
       "      <td>NaN</td>\n",
       "      <td>NaN</td>\n",
       "      <td>NaN</td>\n",
       "      <td>NaN</td>\n",
       "      <td>NaN</td>\n",
       "      <td>PERCENT</td>\n",
       "    </tr>\n",
       "    <tr>\n",
       "      <th>3</th>\n",
       "      <td>RESULT_ATTR_CONC_MICROMOL</td>\n",
       "      <td>NaN</td>\n",
       "      <td>NaN</td>\n",
       "      <td>NaN</td>\n",
       "      <td>NaN</td>\n",
       "      <td>NaN</td>\n",
       "      <td>NaN</td>\n",
       "      <td>8</td>\n",
       "    </tr>\n",
       "    <tr>\n",
       "      <th>4</th>\n",
       "      <td>1</td>\n",
       "      <td>842121.0</td>\n",
       "      <td>6603008.0</td>\n",
       "      <td>Inactive</td>\n",
       "      <td>6.0</td>\n",
       "      <td>NaN</td>\n",
       "      <td>NaN</td>\n",
       "      <td>6.82</td>\n",
       "    </tr>\n",
       "  </tbody>\n",
       "</table>\n",
       "</div>"
      ],
      "text/plain": [
       "          PUBCHEM_RESULT_TAG  PUBCHEM_SID  PUBCHEM_CID  \\\n",
       "0                RESULT_TYPE          NaN          NaN   \n",
       "1               RESULT_DESCR          NaN          NaN   \n",
       "2                RESULT_UNIT          NaN          NaN   \n",
       "3  RESULT_ATTR_CONC_MICROMOL          NaN          NaN   \n",
       "4                          1     842121.0    6603008.0   \n",
       "\n",
       "  PUBCHEM_ACTIVITY_OUTCOME  PUBCHEM_ACTIVITY_SCORE  PUBCHEM_ACTIVITY_URL  \\\n",
       "0                      NaN                     NaN                   NaN   \n",
       "1                      NaN                     NaN                   NaN   \n",
       "2                      NaN                     NaN                   NaN   \n",
       "3                      NaN                     NaN                   NaN   \n",
       "4                 Inactive                     6.0                   NaN   \n",
       "\n",
       "   PUBCHEM_ASSAYDATA_COMMENT  \\\n",
       "0                        NaN   \n",
       "1                        NaN   \n",
       "2                        NaN   \n",
       "3                        NaN   \n",
       "4                        NaN   \n",
       "\n",
       "                                          Activation  \n",
       "0                                              FLOAT  \n",
       "1  Normalized percent activation of the primary s...  \n",
       "2                                            PERCENT  \n",
       "3                                                  8  \n",
       "4                                               6.82  "
      ]
     },
     "execution_count": 2,
     "metadata": {},
     "output_type": "execute_result"
    }
   ],
   "source": [
    "df = pd.read_csv(\"AID_1032_datatable_all.csv\")\n",
    "df.head()"
   ]
  },
  {
   "cell_type": "code",
   "execution_count": 3,
   "metadata": {},
   "outputs": [
    {
     "data": {
      "text/html": [
       "<div>\n",
       "<style>\n",
       "    .dataframe thead tr:only-child th {\n",
       "        text-align: right;\n",
       "    }\n",
       "\n",
       "    .dataframe thead th {\n",
       "        text-align: left;\n",
       "    }\n",
       "\n",
       "    .dataframe tbody tr th {\n",
       "        vertical-align: top;\n",
       "    }\n",
       "</style>\n",
       "<table border=\"1\" class=\"dataframe\">\n",
       "  <thead>\n",
       "    <tr style=\"text-align: right;\">\n",
       "      <th></th>\n",
       "      <th>PUBCHEM_RESULT_TAG</th>\n",
       "      <th>PUBCHEM_SID</th>\n",
       "      <th>PUBCHEM_CID</th>\n",
       "      <th>PUBCHEM_ACTIVITY_OUTCOME</th>\n",
       "      <th>PUBCHEM_ACTIVITY_SCORE</th>\n",
       "      <th>PUBCHEM_ACTIVITY_URL</th>\n",
       "      <th>PUBCHEM_ASSAYDATA_COMMENT</th>\n",
       "      <th>Activation</th>\n",
       "      <th>SMILES</th>\n",
       "    </tr>\n",
       "  </thead>\n",
       "  <tbody>\n",
       "    <tr>\n",
       "      <th>0</th>\n",
       "      <td>1</td>\n",
       "      <td>842121.0</td>\n",
       "      <td>6.60301e+06</td>\n",
       "      <td>Inactive</td>\n",
       "      <td>6.0</td>\n",
       "      <td>NaN</td>\n",
       "      <td>NaN</td>\n",
       "      <td>6.82</td>\n",
       "      <td>CCOCCCNCC(=O)NC1=CC=C(C=C1)OC(F)(F)F.Cl</td>\n",
       "    </tr>\n",
       "    <tr>\n",
       "      <th>1</th>\n",
       "      <td>2</td>\n",
       "      <td>842122.0</td>\n",
       "      <td>6.60257e+06</td>\n",
       "      <td>Inactive</td>\n",
       "      <td>2.0</td>\n",
       "      <td>NaN</td>\n",
       "      <td>NaN</td>\n",
       "      <td>2.45</td>\n",
       "      <td>COCCN1C(=NN=N1)CN2CCC(CC2)CC3=CC=CC=C3.Cl</td>\n",
       "    </tr>\n",
       "    <tr>\n",
       "      <th>2</th>\n",
       "      <td>3</td>\n",
       "      <td>842123.0</td>\n",
       "      <td>6.60262e+06</td>\n",
       "      <td>Inactive</td>\n",
       "      <td>1.0</td>\n",
       "      <td>NaN</td>\n",
       "      <td>NaN</td>\n",
       "      <td>1.41</td>\n",
       "      <td>COCCN1C(=NN=N1)CN2CCC(CC2)(C3=CC(=CC=C3)C(F)(F...</td>\n",
       "    </tr>\n",
       "    <tr>\n",
       "      <th>3</th>\n",
       "      <td>4</td>\n",
       "      <td>842124.0</td>\n",
       "      <td>644371</td>\n",
       "      <td>Inactive</td>\n",
       "      <td>0.0</td>\n",
       "      <td>NaN</td>\n",
       "      <td>NaN</td>\n",
       "      <td>-5.09</td>\n",
       "      <td>C1CCCN(CC1)CC(=O)NCCC2=CC=C(C=C2)F.C(=O)(C(=O)O)O</td>\n",
       "    </tr>\n",
       "    <tr>\n",
       "      <th>4</th>\n",
       "      <td>5</td>\n",
       "      <td>842125.0</td>\n",
       "      <td>6.60313e+06</td>\n",
       "      <td>Inactive</td>\n",
       "      <td>0.0</td>\n",
       "      <td>NaN</td>\n",
       "      <td>NaN</td>\n",
       "      <td>-2.24</td>\n",
       "      <td>COC1=CC=C(C=C1)C(=O)C(C2=CC=CC=C2)N3CCOCC3.Cl</td>\n",
       "    </tr>\n",
       "  </tbody>\n",
       "</table>\n",
       "</div>"
      ],
      "text/plain": [
       "  PUBCHEM_RESULT_TAG  PUBCHEM_SID  PUBCHEM_CID PUBCHEM_ACTIVITY_OUTCOME  \\\n",
       "0                  1     842121.0  6.60301e+06                 Inactive   \n",
       "1                  2     842122.0  6.60257e+06                 Inactive   \n",
       "2                  3     842123.0  6.60262e+06                 Inactive   \n",
       "3                  4     842124.0       644371                 Inactive   \n",
       "4                  5     842125.0  6.60313e+06                 Inactive   \n",
       "\n",
       "   PUBCHEM_ACTIVITY_SCORE  PUBCHEM_ACTIVITY_URL  PUBCHEM_ASSAYDATA_COMMENT  \\\n",
       "0                     6.0                   NaN                        NaN   \n",
       "1                     2.0                   NaN                        NaN   \n",
       "2                     1.0                   NaN                        NaN   \n",
       "3                     0.0                   NaN                        NaN   \n",
       "4                     0.0                   NaN                        NaN   \n",
       "\n",
       "  Activation                                             SMILES  \n",
       "0       6.82            CCOCCCNCC(=O)NC1=CC=C(C=C1)OC(F)(F)F.Cl  \n",
       "1       2.45          COCCN1C(=NN=N1)CN2CCC(CC2)CC3=CC=CC=C3.Cl  \n",
       "2       1.41  COCCN1C(=NN=N1)CN2CCC(CC2)(C3=CC(=CC=C3)C(F)(F...  \n",
       "3      -5.09  C1CCCN(CC1)CC(=O)NCCC2=CC=C(C=C2)F.C(=O)(C(=O)O)O  \n",
       "4      -2.24      COC1=CC=C(C=C1)C(=O)C(C2=CC=CC=C2)N3CCOCC3.Cl  "
      ]
     },
     "execution_count": 3,
     "metadata": {},
     "output_type": "execute_result"
    }
   ],
   "source": [
    "# Merge in the SMILES info for all compound IDs\n",
    "cs = pd.read_csv(\"1032_CID_SMILES_Mapping.csv\",sep='\\t',header=0)\n",
    "df = df.merge(cs,on=\"PUBCHEM_CID\")\n",
    "df.head()"
   ]
  },
  {
   "cell_type": "code",
   "execution_count": 4,
   "metadata": {},
   "outputs": [
    {
     "data": {
      "text/plain": [
       "0    False\n",
       "1    False\n",
       "2    False\n",
       "3    False\n",
       "4    False\n",
       "Name: IS_ACTIVE, dtype: bool"
      ]
     },
     "execution_count": 4,
     "metadata": {},
     "output_type": "execute_result"
    }
   ],
   "source": [
    "# Binarize the inactive/active column\n",
    "\n",
    "df[\"IS_ACTIVE\"] = df[\"PUBCHEM_ACTIVITY_OUTCOME\"] == \"Active\"\n",
    "df[\"IS_ACTIVE\"].astype(bool)\n",
    "\n",
    "df_active = df[df[\"IS_ACTIVE\"] == True]\n",
    "df_inactive = df[df[\"IS_ACTIVE\"] == False]\n",
    "\n",
    "df[\"IS_ACTIVE\"].head()"
   ]
  },
  {
   "cell_type": "code",
   "execution_count": 5,
   "metadata": {},
   "outputs": [
    {
     "name": "stdout",
     "output_type": "stream",
     "text": [
      "Active are: 670, Inactive are: 195584\n"
     ]
    }
   ],
   "source": [
    "# Plot histogram of active\n",
    "%matplotlib inline\n",
    "\n",
    "print(\"Active are: {}, Inactive are: {}\".format(df_active.count()[\"PUBCHEM_CID\"], df_inactive.count()[\"PUBCHEM_CID\"]))"
   ]
  },
  {
   "cell_type": "code",
   "execution_count": 7,
   "metadata": {},
   "outputs": [
    {
     "name": "stdout",
     "output_type": "stream",
     "text": [
      "Processed index: 0\n",
      "Processed index: 10000\n",
      "Processed index: 20000\n",
      "Processed index: 30000\n",
      "Processed index: 40000\n",
      "Processed index: 50000\n",
      "Processed index: 60000\n",
      "Processed index: 70000\n",
      "Processed index: 80000\n"
     ]
    },
    {
     "ename": "KeyboardInterrupt",
     "evalue": "",
     "output_type": "error",
     "traceback": [
      "\u001b[0;31m---------------------------------------------------------------------------\u001b[0m",
      "\u001b[0;31mKeyboardInterrupt\u001b[0m                         Traceback (most recent call last)",
      "\u001b[0;32m<ipython-input-7-5fea1963d849>\u001b[0m in \u001b[0;36m<module>\u001b[0;34m()\u001b[0m\n\u001b[1;32m     11\u001b[0m     \u001b[0mcid\u001b[0m \u001b[0;34m=\u001b[0m \u001b[0mrow\u001b[0m\u001b[0;34m[\u001b[0m\u001b[0;34m\"PUBCHEM_CID\"\u001b[0m\u001b[0;34m]\u001b[0m\u001b[0;34m\u001b[0m\u001b[0m\n\u001b[1;32m     12\u001b[0m     \u001b[0msmiles_string\u001b[0m \u001b[0;34m=\u001b[0m \u001b[0mrow\u001b[0m\u001b[0;34m[\u001b[0m\u001b[0;34m\"SMILES\"\u001b[0m\u001b[0;34m]\u001b[0m\u001b[0;34m\u001b[0m\u001b[0m\n\u001b[0;32m---> 13\u001b[0;31m     \u001b[0mmol\u001b[0m \u001b[0;34m=\u001b[0m \u001b[0mChem\u001b[0m\u001b[0;34m.\u001b[0m\u001b[0mMolFromSmiles\u001b[0m\u001b[0;34m(\u001b[0m\u001b[0msmiles_string\u001b[0m\u001b[0;34m)\u001b[0m\u001b[0;34m\u001b[0m\u001b[0m\n\u001b[0m\u001b[1;32m     14\u001b[0m     \u001b[0mis_active\u001b[0m \u001b[0;34m=\u001b[0m \u001b[0mrow\u001b[0m\u001b[0;34m[\u001b[0m\u001b[0;34m\"PUBCHEM_ACTIVITY_OUTCOME\"\u001b[0m\u001b[0;34m]\u001b[0m \u001b[0;34m==\u001b[0m \u001b[0;34m\"Active\"\u001b[0m\u001b[0;34m\u001b[0m\u001b[0m\n\u001b[1;32m     15\u001b[0m \u001b[0;34m\u001b[0m\u001b[0m\n",
      "\u001b[0;31mKeyboardInterrupt\u001b[0m: "
     ]
    }
   ],
   "source": [
    "# Now let's calculate fixed-length features which we need to train an ML algorithm\n",
    "\n",
    "fingerprints = list()\n",
    "activities = list()\n",
    "\n",
    "num_parsed = 0\n",
    "num_active = 0\n",
    "num_inactive = 0\n",
    "\n",
    "for index, row in df.iterrows() :\n",
    "    cid = row[\"PUBCHEM_CID\"]\n",
    "    smiles_string = row[\"SMILES\"]\n",
    "    mol = Chem.MolFromSmiles(smiles_string)\n",
    "    is_active = row[\"PUBCHEM_ACTIVITY_OUTCOME\"] == \"Active\"\n",
    "    \n",
    "    if num_active == 670 and num_inactive >= 670 :\n",
    "        break\n",
    "    \n",
    "    if mol is None:\n",
    "        print(\"Molecule failed featurization\")\n",
    "        print(index)\n",
    "    else: \n",
    "        fingerprint = rdMolDescriptors.GetMorganFingerprintAsBitVect(mol,2,nBits=2048,useChirality=False,\n",
    "                                                                     useBondTypes=False,useFeatures=False)\n",
    "        # From RDKit documentation\n",
    "        arr = np.zeros((1,))\n",
    "        DataStructs.ConvertToNumpyArray(fingerprint, arr)\n",
    "        fingerprint = arr\n",
    "        \n",
    "        \n",
    "        \n",
    "        if(is_active) :\n",
    "            num_active = num_active + 1\n",
    "        else :\n",
    "            num_inactive = num_inactive + 1\n",
    "            \n",
    "\n",
    "        fingerprints.append(fingerprint)\n",
    "        activities.append(is_active)\n",
    "        \n",
    "        num_parsed = num_parsed + 1\n",
    "    \n",
    "    if index % 10000 == 0:\n",
    "        print(\"Processed index: {0}\".format(index))\n",
    "\n",
    "fingerprints = np.array(fingerprints)\n",
    "activities = np.array(activities,dtype=int)\n",
    "\n",
    "rus = RandomUnderSampler(random_state=global_random_state)\n",
    "X, y = rus.fit_sample(fingerprints, activities)\n",
    "\n",
    "# Pickle the data to save time in the future\n",
    "with open('data.classification.undersampled.1032.pickle', 'wb') as f:\n",
    "    pickle.dump((X,y), f, pickle.HIGHEST_PROTOCOL)"
   ]
  },
  {
   "cell_type": "code",
   "execution_count": 4,
   "metadata": {
    "collapsed": true
   },
   "outputs": [],
   "source": [
    "with open('data.classification.undersampled.1032.pickle','rb') as f:\n",
    "    (X,y) = pickle.load(f)"
   ]
  },
  {
   "cell_type": "code",
   "execution_count": 10,
   "metadata": {},
   "outputs": [
    {
     "name": "stdout",
     "output_type": "stream",
     "text": [
      "Number of training samples is: 670\n",
      "Number of test samples is: 670\n",
      "Number of training samples is: 670\n",
      "Number of test samples is: 670\n",
      "Average roc_auc score of 2 folds is: 0.48507462686567165\n",
      "Average elapsed prediction time over 2 folds in s is: 0.0021752119064331055\n"
     ]
    }
   ],
   "source": [
    "# Note - minor code used from https://github.com/LRParser/pubchem-sklearn/blob/master/pubchem_bioassay_sklearn.ipynb\n",
    "skf = StratifiedKFold(n_splits=k_fold_splits,shuffle=True,random_state=global_random_state)\n",
    "\n",
    "roc_auc_avg = 0\n",
    "avg_predict_time = 0\n",
    "for train_index, test_index in skf.split(X,y) :\n",
    "\n",
    "    X_train = X[train_index]\n",
    "    X_test = X[test_index]\n",
    "    y_train = y[train_index]\n",
    "    y_test = y[test_index]\n",
    "    \n",
    "    print(\"Number of training samples is: {}\".format(len(X_train)))\n",
    "    print(\"Number of test samples is: {}\".format(len(X_test)))\n",
    "\n",
    "    classifier = DummyClassifier(random_state=global_random_state)\n",
    "    classifier.fit(X_train,y_train)\n",
    "    start = time.time()\n",
    "    y_pred = classifier.predict(X_test)\n",
    "    elapsed = time.time() - start\n",
    "    avg_predict_time = avg_predict_time + elapsed\n",
    "    auc = roc_auc_score(y_test, y_pred, average='macro', sample_weight=None)\n",
    "    roc_auc_avg = roc_auc_avg + auc\n",
    "    \n",
    "avg_predict_time = avg_predict_time / k_fold_splits\n",
    "roc_auc_avg = roc_auc_avg / k_fold_splits\n",
    "print(\"Average roc_auc score of {} folds is: {}\".format(k_fold_splits, roc_auc_avg))\n",
    "print(\"Average elapsed prediction time over {} folds in s is: {}\".format(k_fold_splits, avg_predict_time))"
   ]
  },
  {
   "cell_type": "code",
   "execution_count": 11,
   "metadata": {},
   "outputs": [
    {
     "name": "stdout",
     "output_type": "stream",
     "text": [
      "Number of training samples is: 670\n",
      "Number of test samples is: 670\n",
      "Number of training samples is: 670\n",
      "Number of test samples is: 670\n",
      "Average roc_auc score of 2 folds is: 0.6970149253731344\n",
      "Average elapsed prediction time over 2 folds in s is: 0.01775991916656494\n"
     ]
    }
   ],
   "source": [
    "roc_auc_avg = 0\n",
    "avg_predict_time = 0\n",
    "for train_index, test_index in skf.split(X,y) :\n",
    "\n",
    "    X_train = X[train_index]\n",
    "    X_test = X[test_index]\n",
    "    y_train = y[train_index]\n",
    "    y_test = y[test_index]\n",
    "    \n",
    "    print(\"Number of training samples is: {}\".format(len(X_train)))\n",
    "    print(\"Number of test samples is: {}\".format(len(X_test)))\n",
    "\n",
    "    classifier = RandomForestClassifier(random_state=global_random_state)\n",
    "    classifier.fit(X_train,y_train)\n",
    "    start = time.time()\n",
    "    y_pred = classifier.predict(X_test)\n",
    "    elapsed = time.time() - start\n",
    "    avg_predict_time = avg_predict_time + elapsed\n",
    "    auc = roc_auc_score(y_test, y_pred, average='macro', sample_weight=None)\n",
    "    roc_auc_avg = roc_auc_avg + auc\n",
    "    \n",
    "avg_predict_time = avg_predict_time / k_fold_splits\n",
    "roc_auc_avg = roc_auc_avg / k_fold_splits\n",
    "print(\"Average roc_auc score of {} folds is: {}\".format(k_fold_splits, roc_auc_avg))\n",
    "print(\"Average elapsed prediction time over {} folds in s is: {}\".format(k_fold_splits, avg_predict_time))"
   ]
  },
  {
   "cell_type": "code",
   "execution_count": null,
   "metadata": {
    "collapsed": true
   },
   "outputs": [],
   "source": []
  }
 ],
 "metadata": {
  "kernelspec": {
   "display_name": "Python 3",
   "language": "python",
   "name": "python3"
  },
  "language_info": {
   "codemirror_mode": {
    "name": "ipython",
    "version": 3
   },
   "file_extension": ".py",
   "mimetype": "text/x-python",
   "name": "python",
   "nbconvert_exporter": "python",
   "pygments_lexer": "ipython3",
   "version": "3.6.1"
  }
 },
 "nbformat": 4,
 "nbformat_minor": 2
}
