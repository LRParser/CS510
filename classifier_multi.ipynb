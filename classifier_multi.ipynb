{
 "cells": [
  {
   "cell_type": "code",
   "execution_count": 1,
   "metadata": {
    "collapsed": true
   },
   "outputs": [],
   "source": [
    "import pandas as pd\n",
    "import numpy as np\n",
    "from rdkit import Chem, DataStructs\n",
    "from rdkit.Chem import AllChem, rdMolDescriptors\n",
    "from sklearn.ensemble import RandomForestClassifier\n",
    "from imblearn.under_sampling import RandomUnderSampler\n",
    "from sklearn.metrics import roc_auc_score\n",
    "from sklearn.model_selection import train_test_split\n",
    "from sklearn.dummy import DummyClassifier\n",
    "from sklearn.model_selection import StratifiedKFold\n",
    "import gensim\n",
    "from gensim import models\n",
    "import time\n",
    "import pickle\n",
    "import json\n",
    "import urllib\n",
    "import requests\n",
    "import os\n",
    "import gzip\n",
    "import zipfile\n",
    "from bisect import bisect_left\n",
    "\n",
    "global_random_state = 42\n",
    "k_fold_splits = 2\n",
    "\n",
    "# Source: https://stackoverflow.com/questions/212358/binary-search-bisection-in-python/212971\n",
    "def binary_search(a, x, lo=0, hi=None):  # can't use a to specify default for hi\n",
    "    hi = hi if hi is not None else len(a)  # hi defaults to len(a)\n",
    "    pos = bisect_left(a, x, lo, hi)  # find insertion position\n",
    "    return (pos if pos != hi and a[pos] == x else -1)  # don't walk off the end\n"
   ]
  },
  {
   "cell_type": "code",
   "execution_count": 2,
   "metadata": {},
   "outputs": [
    {
     "name": "stdout",
     "output_type": "stream",
     "text": [
      "Loading from pickle\n",
      "Data loaded\n"
     ]
    }
   ],
   "source": [
    "print(\"Loading from pickle\")\n",
    "with open('/media/data/pubchem/kekulesmiles_tuple.pickle',\"rb\") as f:\n",
    "    cid_keys, smile_values = pickle.load(f)\n",
    "print(\"Data loaded\")"
   ]
  },
  {
   "cell_type": "code",
   "execution_count": 4,
   "metadata": {
    "scrolled": true
   },
   "outputs": [
    {
     "name": "stdout",
     "output_type": "stream",
     "text": [
      "Found a total of: 912 assays linked to Gene Symbol PPARG\n",
      "Processing assay: 631\n"
     ]
    },
    {
     "name": "stderr",
     "output_type": "stream",
     "text": [
      "/home/joe/anaconda3/envs/cs510-env/lib/python3.6/site-packages/IPython/core/interactiveshell.py:2862: DtypeWarning: Columns (0,7) have mixed types. Specify dtype option on import or set low_memory=False.\n",
      "  exec(code_obj, self.user_global_ns, self.user_ns)\n"
     ]
    },
    {
     "name": "stdout",
     "output_type": "stream",
     "text": [
      "Processing assay: 731\n",
      "Processing assay: 1048\n",
      "Processing assay: 1049\n",
      "Processing assay: 1051\n",
      "Processing assay: 1032\n"
     ]
    },
    {
     "name": "stderr",
     "output_type": "stream",
     "text": [
      "/home/joe/anaconda3/envs/cs510-env/lib/python3.6/site-packages/IPython/core/interactiveshell.py:2802: DtypeWarning: Columns (0,7) have mixed types. Specify dtype option on import or set low_memory=False.\n",
      "  if self.run_code(code, result):\n"
     ]
    },
    {
     "name": "stdout",
     "output_type": "stream",
     "text": [
      "roc_auc score of 0.5006612974730309 with DummyClassifier\n",
      "roc_auc score of 0.9344059405940595 with RandomForestClassifier\n"
     ]
    }
   ],
   "source": [
    "assay_dir = \"/media/data/pubchem/Data\"\n",
    "\n",
    "def build_single_assay_dataset(assay_num) :\n",
    "    \n",
    "    print(\"Processing assay: {0}\".format(assay_num))\n",
    "    # Round assay into down to nearest thousand\n",
    "    assay_num_rounded_lower = assay_num - (assay_num % 1000) + 1\n",
    "    assay_num_rounded_upper = assay_num_rounded_lower + 999\n",
    "    expected_folder_name = \"{0:0>7}_{1:0>7}\".format(assay_num_rounded_lower,assay_num_rounded_upper)\n",
    "    expected_name = \"{0}.zip\".format(expected_folder_name)\n",
    "    expected_path = os.path.join(assay_dir,expected_name)\n",
    "\n",
    "    archive = zipfile.ZipFile(expected_path, 'r')\n",
    "\n",
    "    fingerprints = list()\n",
    "    activities = list()\n",
    "    mols = list()\n",
    "    num_parsed = 0\n",
    "    \n",
    "    with archive.open(expected_folder_name + '/' + str(assay_num) + \".csv.gz\") as f:\n",
    "        with gzip.open(f) as g:\n",
    "\n",
    "            df = pd.read_csv(g)\n",
    "            df = df.dropna(subset=[\"PUBCHEM_ACTIVITY_OUTCOME\",\"PUBCHEM_CID\"])\n",
    "            df[\"PUBCHEM_CID\"] = df[\"PUBCHEM_CID\"].astype(int)\n",
    "            df[\"IS_ACTIVE\"] = df[\"PUBCHEM_ACTIVITY_OUTCOME\"].apply(lambda x: True if \"Active\" in x else False)\n",
    "\n",
    "            df_active = df[df[\"IS_ACTIVE\"] == True]\n",
    "            df_inactive = df[df[\"IS_ACTIVE\"] == False]\n",
    "            num_active = len(df_active)\n",
    "            num_inactive = len(df_inactive)\n",
    "            #print(\"Active are: {}, Inactive are: {}\".format(num_active,num_inactive))\n",
    "\n",
    "            active_added_count = 0\n",
    "            inactive_added_count = 0\n",
    "            num_parsed = 0\n",
    "\n",
    "            for index, row in df.iterrows() :\n",
    "\n",
    "                is_active = row[\"PUBCHEM_ACTIVITY_OUTCOME\"] == \"Active\"\n",
    "\n",
    "                if not is_active and inactive_added_count >= num_active:\n",
    "                    continue\n",
    "\n",
    "                cid = int(row[\"PUBCHEM_CID\"])\n",
    "                cid_pos = binary_search(cid_keys,cid)\n",
    "\n",
    "                if cid_pos == -1:\n",
    "                    continue\n",
    "\n",
    "                smiles_string = smile_values[cid_pos]\n",
    "                mol = Chem.MolFromSmiles(smiles_string)\n",
    "\n",
    "                if mol is None:\n",
    "                    continue\n",
    "\n",
    "                fingerprint = rdMolDescriptors.GetMorganFingerprintAsBitVect(mol,2,nBits=2048,useChirality=False,\n",
    "                                                                 useBondTypes=False,useFeatures=False)\n",
    "                # From RDKit documentation\n",
    "                arr = np.zeros((1,))\n",
    "                DataStructs.ConvertToNumpyArray(fingerprint, arr)\n",
    "                fingerprint = arr\n",
    "\n",
    "                fingerprints.append(fingerprint)                \n",
    "                activities.append(is_active)\n",
    "                mols.append(mol)\n",
    "\n",
    "                num_parsed = num_parsed + 1\n",
    "\n",
    "                if is_active:\n",
    "                    active_added_count = active_added_count + 1\n",
    "                else :\n",
    "                    inactive_added_count = inactive_added_count + 1\n",
    "\n",
    "\n",
    "    X = fingerprints\n",
    "    y = activities\n",
    "    return X, y\n",
    "    \n",
    "\n",
    "def build_multi_assay_dataset(gene_symbol,max_num_assays,holdout_assay_num=None) :\n",
    "\n",
    "    # Use an API call to find all related bioassays\n",
    "    assays_url = \"https://pubchem.ncbi.nlm.nih.gov/rest/pug/assay/target/genesymbol/{0}/aids/TXT\".format(gene_symbol)\n",
    "    r = requests.get(assays_url)\n",
    "    relevant_assays = [int(x) for x in r.text.split('\\n') if len(x) > 0]\n",
    "    print(\"Found a total of: {0} assays linked to Gene Symbol {1}\".format(len(relevant_assays),gene_symbol))\n",
    "\n",
    "    # Each assay n is in a file starting from 0001 to 1000, etc\n",
    "\n",
    "    fingerprints = list()\n",
    "    activities = list()\n",
    "\n",
    "    i = 0\n",
    "    assays_used = list()\n",
    "\n",
    "    for assay_num in relevant_assays:\n",
    "\n",
    "        if holdout_assay_num and assay_num == holdout_assay_num:\n",
    "            continue\n",
    "        \n",
    "        if i >= max_num_assays:\n",
    "            break\n",
    "            \n",
    "        fp, ac = build_single_assay_dataset(assay_num)\n",
    "        \n",
    "        fingerprints.extend(fp)\n",
    "        activities.extend(ac)\n",
    "        \n",
    "        assays_used.append(assay_num)\n",
    "\n",
    "        i = i + 1\n",
    "        \n",
    "        \n",
    "    return np.array(fingerprints), np.array(activities), relevant_assays, assays_used\n",
    "\n",
    "def score_transfer_learning(X, y, X_holdout, y_holdout):\n",
    "    classifier = DummyClassifier(random_state=global_random_state)\n",
    "    classifier.fit(X,y)\n",
    "    start = time.time()\n",
    "    y_pred = classifier.predict(X_holdout)\n",
    "    elapsed = time.time() - start\n",
    "    auc = roc_auc_score(y_holdout, y_pred, average='macro', sample_weight=None)\n",
    "    print(\"roc_auc score of {0} with DummyClassifier\".format(auc))\n",
    "    \n",
    "    classifier = RandomForestClassifier(random_state=global_random_state)\n",
    "    classifier.fit(X,y)\n",
    "    start = time.time()\n",
    "    y_pred = classifier.predict(X_holdout)\n",
    "    elapsed = time.time() - start\n",
    "    auc = roc_auc_score(y_holdout, y_pred, average='macro', sample_weight=None)\n",
    "\n",
    "    print(\"roc_auc score of {0} with RandomForestClassifier\".format(auc))\n",
    "    \n",
    "\n",
    "X, y, relevant_assays, assays_used = build_multi_assay_dataset(\"PPARG\",5,1032)\n",
    "\n",
    "#print(\"Core dataset size is: {0}\".format(len(X)))\n",
    "X_holdout, y_holdout = build_single_assay_dataset(1032)\n",
    "#print(\"Comparison dataset size is: {0}\".format(len(X_holdout)))\n",
    "\n",
    "X_holdout = np.array(X_holdout)\n",
    "y_holdout = np.array(y_holdout)\n",
    "\n",
    "score_transfer_learning(X,y,X_holdout,y_holdout)\n"
   ]
  },
  {
   "cell_type": "code",
   "execution_count": 6,
   "metadata": {},
   "outputs": [
    {
     "name": "stdout",
     "output_type": "stream",
     "text": [
      "Found a total of: 176 assays linked to Gene Symbol TP53\n",
      "Processing assay: 902\n"
     ]
    },
    {
     "name": "stderr",
     "output_type": "stream",
     "text": [
      "/home/joe/anaconda3/envs/cs510-env/lib/python3.6/site-packages/ipykernel/__main__.py:20: DtypeWarning: Columns (0,8,9,10,12,13,14,15,16,17,19,20,21,22,23,24,25,26,27,28,29,30,31,32,33,34,35) have mixed types. Specify dtype option on import or set low_memory=False.\n"
     ]
    },
    {
     "name": "stdout",
     "output_type": "stream",
     "text": [
      "Processing assay: 903\n"
     ]
    },
    {
     "name": "stderr",
     "output_type": "stream",
     "text": [
      "/home/joe/anaconda3/envs/cs510-env/lib/python3.6/site-packages/ipykernel/__main__.py:20: DtypeWarning: Columns (0,8,9,10,12,13,14,15,16,17,19,20,21,22,23,24,25,26) have mixed types. Specify dtype option on import or set low_memory=False.\n"
     ]
    },
    {
     "name": "stdout",
     "output_type": "stream",
     "text": [
      "Processing assay: 904\n",
      "Processing assay: 924\n",
      "Processing assay: 238133\n",
      "Processing assay: 241436\n",
      "Processing assay: 241501\n",
      "Processing assay: 241830\n",
      "Processing assay: 243263\n",
      "Processing assay: 271647\n",
      "Processing assay: 271651\n",
      "Processing assay: 284164\n",
      "Processing assay: 284165\n",
      "Processing assay: 370665\n",
      "Processing assay: 438428\n",
      "Processing assay: 438429\n",
      "Processing assay: 438431\n",
      "Processing assay: 438435\n",
      "Processing assay: 442448\n",
      "Processing assay: 442449\n",
      "Processing assay: 442450\n",
      "Processing assay: 442451\n",
      "Processing assay: 442452\n",
      "Processing assay: 442453\n",
      "Processing assay: 442454\n",
      "Processing assay: 442455\n",
      "Processing assay: 442456\n",
      "Processing assay: 442457\n",
      "Processing assay: 442458\n",
      "Processing assay: 442459\n",
      "Processing assay: 442460\n",
      "Processing assay: 442461\n",
      "Processing assay: 442462\n",
      "Processing assay: 442463\n",
      "Processing assay: 442464\n",
      "Processing assay: 503473\n",
      "Processing assay: 504706\n"
     ]
    },
    {
     "name": "stderr",
     "output_type": "stream",
     "text": [
      "/home/joe/anaconda3/envs/cs510-env/lib/python3.6/site-packages/IPython/core/interactiveshell.py:2862: DtypeWarning: Columns (0,8,9,10,12,13,14,15,16,17,19,20,21,22,23,24,25) have mixed types. Specify dtype option on import or set low_memory=False.\n",
      "  exec(code_obj, self.user_global_ns, self.user_ns)\n"
     ]
    },
    {
     "name": "stdout",
     "output_type": "stream",
     "text": [
      "6014,6014,504706,354,354\n",
      "Scoring transferability for gene: TP53\n",
      "roc_auc score of 0.5024875621890547 with DummyClassifier\n",
      "roc_auc score of 0.7328065554580042 with RandomForestClassifier\n",
      "Found a total of: 47 assays linked to Gene Symbol TNF\n",
      "Processing assay: 1852\n",
      "Processing assay: 2337\n",
      "Processing assay: 2483\n",
      "Processing assay: 2485\n",
      "Processing assay: 2801\n",
      "Processing assay: 210150\n",
      "Processing assay: 215455\n",
      "Processing assay: 215456\n",
      "Processing assay: 215457\n",
      "Processing assay: 215589\n",
      "Processing assay: 247750\n",
      "Processing assay: 461440\n",
      "Processing assay: 526325\n",
      "Processing assay: 651757\n",
      "Processing assay: 732923\n",
      "Processing assay: 732924\n",
      "Processing assay: 733374\n",
      "Processing assay: 733375\n",
      "Processing assay: 733376\n",
      "Processing assay: 733377\n",
      "Processing assay: 733378\n",
      "Processing assay: 733379\n",
      "Processing assay: 733380\n",
      "Processing assay: 733381\n",
      "Processing assay: 733382\n",
      "Processing assay: 733383\n",
      "Processing assay: 733384\n",
      "Processing assay: 736485\n",
      "Processing assay: 742688\n",
      "Processing assay: 1156798\n",
      "Processing assay: 1159590\n",
      "Processing assay: 1159591\n",
      "Processing assay: 1159594\n",
      "Processing assay: 1159595\n",
      "Processing assay: 1159596\n",
      "Processing assay: 1159598\n",
      "Processing assay: 1159599\n",
      "Processing assay: 1159600\n",
      "Processing assay: 1159601\n",
      "Processing assay: 1186215\n",
      "Processing assay: 1186216\n",
      "Processing assay: 1186217\n",
      "Processing assay: 1186218\n",
      "Processing assay: 1186219\n",
      "Processing assay: 1224826\n",
      "Processing assay: 1234335\n",
      "Processing assay: 1257517\n"
     ]
    },
    {
     "ename": "IndexError",
     "evalue": "list index out of range",
     "output_type": "error",
     "traceback": [
      "\u001b[0;31m---------------------------------------------------------------------------\u001b[0m",
      "\u001b[0;31mIndexError\u001b[0m                                Traceback (most recent call last)",
      "\u001b[0;32m<ipython-input-6-309368b31983>\u001b[0m in \u001b[0;36m<module>\u001b[0;34m()\u001b[0m\n\u001b[1;32m     18\u001b[0m \u001b[0mgene_list\u001b[0m \u001b[0;34m=\u001b[0m \u001b[0;34m[\u001b[0m\u001b[0;34m\"TP53\"\u001b[0m\u001b[0;34m,\u001b[0m\u001b[0;34m\"TNF\"\u001b[0m\u001b[0;34m,\u001b[0m\u001b[0;34m\"EGFR\"\u001b[0m\u001b[0;34m,\u001b[0m\u001b[0;34m\"VEGFA\"\u001b[0m\u001b[0;34m,\u001b[0m\u001b[0;34m\"APOE\"\u001b[0m\u001b[0;34m,\u001b[0m\u001b[0;34m\"IL6\"\u001b[0m\u001b[0;34m,\u001b[0m\u001b[0;34m\"TGFB1\"\u001b[0m\u001b[0;34m,\u001b[0m\u001b[0;34m\"MTHFR\"\u001b[0m\u001b[0;34m,\u001b[0m\u001b[0;34m\"ESR1\"\u001b[0m\u001b[0;34m,\u001b[0m\u001b[0;34m\"AKT1\"\u001b[0m\u001b[0;34m]\u001b[0m\u001b[0;34m\u001b[0m\u001b[0m\n\u001b[1;32m     19\u001b[0m \u001b[0;32mfor\u001b[0m \u001b[0mgene_symbol\u001b[0m \u001b[0;32min\u001b[0m \u001b[0mgene_list\u001b[0m\u001b[0;34m:\u001b[0m\u001b[0;34m\u001b[0m\u001b[0m\n\u001b[0;32m---> 20\u001b[0;31m     \u001b[0mscore_transfer_learning_for_gene\u001b[0m\u001b[0;34m(\u001b[0m\u001b[0mgene_symbol\u001b[0m\u001b[0;34m,\u001b[0m\u001b[0;36m5\u001b[0m\u001b[0;34m)\u001b[0m\u001b[0;34m\u001b[0m\u001b[0m\n\u001b[0m",
      "\u001b[0;32m<ipython-input-6-309368b31983>\u001b[0m in \u001b[0;36mscore_transfer_learning_for_gene\u001b[0;34m(gene_symbol, ref_assay_size)\u001b[0m\n\u001b[1;32m      7\u001b[0m     \u001b[0mi\u001b[0m \u001b[0;34m=\u001b[0m \u001b[0;36m0\u001b[0m\u001b[0;34m\u001b[0m\u001b[0m\n\u001b[1;32m      8\u001b[0m     \u001b[0;32mwhile\u001b[0m\u001b[0;34m(\u001b[0m\u001b[0mX_holdout\u001b[0m \u001b[0;32mis\u001b[0m \u001b[0;32mNone\u001b[0m \u001b[0;32mor\u001b[0m \u001b[0mlen\u001b[0m\u001b[0;34m(\u001b[0m\u001b[0mX_holdout\u001b[0m\u001b[0;34m)\u001b[0m \u001b[0;34m<\u001b[0m \u001b[0;36m100\u001b[0m\u001b[0;34m)\u001b[0m \u001b[0;34m:\u001b[0m\u001b[0;34m\u001b[0m\u001b[0m\n\u001b[0;32m----> 9\u001b[0;31m         \u001b[0mholdout_assay\u001b[0m \u001b[0;34m=\u001b[0m \u001b[0mrelevant_assays\u001b[0m\u001b[0;34m[\u001b[0m\u001b[0mref_assay_size\u001b[0m \u001b[0;34m+\u001b[0m \u001b[0mi\u001b[0m\u001b[0;34m]\u001b[0m\u001b[0;34m\u001b[0m\u001b[0m\n\u001b[0m\u001b[1;32m     10\u001b[0m         \u001b[0mX_holdout\u001b[0m\u001b[0;34m,\u001b[0m \u001b[0my_holdout\u001b[0m \u001b[0;34m=\u001b[0m \u001b[0mbuild_single_assay_dataset\u001b[0m\u001b[0;34m(\u001b[0m\u001b[0mholdout_assay\u001b[0m\u001b[0;34m)\u001b[0m\u001b[0;34m\u001b[0m\u001b[0m\n\u001b[1;32m     11\u001b[0m         \u001b[0mi\u001b[0m \u001b[0;34m=\u001b[0m \u001b[0mi\u001b[0m \u001b[0;34m+\u001b[0m \u001b[0;36m1\u001b[0m\u001b[0;34m\u001b[0m\u001b[0m\n",
      "\u001b[0;31mIndexError\u001b[0m: list index out of range"
     ]
    }
   ],
   "source": [
    "def score_transfer_learning_for_gene(gene_symbol, ref_assay_size) :\n",
    "    X, y, relevant_assays, assays_used = build_multi_assay_dataset(gene_symbol,ref_assay_size)\n",
    "    \n",
    "    # Find a workable holdoutassay\n",
    "    X_holdout = None\n",
    "    y_holdout = None\n",
    "    i = 0\n",
    "    while(X_holdout is None or len(X_holdout) < 100 and i < len(relevant_assays) - ref_assay_size - 1) :\n",
    "        holdout_assay = relevant_assays[ref_assay_size + i]\n",
    "        X_holdout, y_holdout = build_single_assay_dataset(holdout_assay)\n",
    "        i = i + 1\n",
    "    \n",
    "    print(\"{0},{1},{2},{3},{4}\".format(len(X),len(y),holdout_assay,len(X_holdout),len(y_holdout)))\n",
    "    print(\"Scoring transferability for gene: {0}\".format(gene_symbol))\n",
    "    score_transfer_learning(X,y,X_holdout,y_holdout)\n",
    "\n",
    "# The 10 most studied genes from https://www.nature.com/articles/d41586-017-07291-9 \n",
    "gene_list = [\"TP53\",\"TNF\",\"EGFR\",\"VEGFA\",\"APOE\",\"IL6\",\"TGFB1\",\"MTHFR\",\"ESR1\",\"AKT1\"]\n",
    "for gene_symbol in gene_list:\n",
    "    score_transfer_learning_for_gene(gene_symbol,5)"
   ]
  },
  {
   "cell_type": "code",
   "execution_count": null,
   "metadata": {
    "collapsed": true
   },
   "outputs": [],
   "source": []
  }
 ],
 "metadata": {
  "kernelspec": {
   "display_name": "Python [default]",
   "language": "python",
   "name": "python3"
  },
  "language_info": {
   "codemirror_mode": {
    "name": "ipython",
    "version": 3
   },
   "file_extension": ".py",
   "mimetype": "text/x-python",
   "name": "python",
   "nbconvert_exporter": "python",
   "pygments_lexer": "ipython3",
   "version": "3.6.2"
  }
 },
 "nbformat": 4,
 "nbformat_minor": 2
}
